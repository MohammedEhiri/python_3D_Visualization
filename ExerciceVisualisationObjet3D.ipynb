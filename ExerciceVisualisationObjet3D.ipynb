{
 "cells": [
  {
   "cell_type": "markdown",
   "id": "12ad8f11",
   "metadata": {},
   "source": [
    "## NB : Dans ce projet, j'ai utilisé le package pptk pour la creation des nuages de points 3D. Pour que ce package marche sur votre machine, essayer sil vous plait d'installer python version 3.6.\n",
    "   ## pour la faire : \n",
    "    1-acceder à Anaconda Prompt\n",
    "    2-taper le commande suivante [ conda create -n NomduNouvelEnvironnement ]\n",
    "    3-taper [ activate NomduNouvelEnvironnement]\n",
    "    4-taper [ conda install python=3.6 ]\n",
    "    5-acceder à l'application Anaconda et cliquer sur [Environnement] puis cliquer sur l'environnement que vous venez de creer\n",
    "    'NomduNouvelEnvironnement' pour changer la base \n",
    "    "
   ]
  },
  {
   "cell_type": "markdown",
   "id": "54961166",
   "metadata": {},
   "source": [
    "# Avant de commencer la visualisation, nous devons d'abord garantir l'installation de ces packages : numpy - pptk - laspy - open3d - h5py"
   ]
  },
  {
   "cell_type": "markdown",
   "id": "034b968c",
   "metadata": {},
   "source": [
    "## pour les installer, il suffit de taper la commande -pip install- suivie du nom du package"
   ]
  },
  {
   "cell_type": "code",
   "execution_count": null,
   "id": "86f2e974",
   "metadata": {},
   "outputs": [],
   "source": [
    "pip install numpy\n",
    "\n",
    "pip install pptk\n",
    "\n",
    "pip install laspy\n",
    "\n",
    "pip install open3d\n",
    "\n",
    "pip install h5py"
   ]
  },
  {
   "cell_type": "code",
   "execution_count": 50,
   "id": "ee2d29a7",
   "metadata": {},
   "outputs": [],
   "source": [
    "# les packages de lecture et ecriture\n",
    "import numpy as np\n",
    "import laspy\n",
    "import h5py\n",
    "# les packages de la visualisation\n",
    "import open3d as o3d\n",
    "import pptk # fonctionne seulement avec Python 3.6"
   ]
  },
  {
   "cell_type": "markdown",
   "id": "b1495680",
   "metadata": {},
   "source": [
    "# ci joint de ce fichier notebook , un dossier contenant des exemple d'application, pour les apporter, modifier le chemain 'D:\\\\data\\\\data\\\\' par le chemain ou vous avez placé ce dossier dans votre stockage de masse."
   ]
  },
  {
   "cell_type": "code",
   "execution_count": 51,
   "id": "8106bd52",
   "metadata": {},
   "outputs": [
    {
     "name": "stdout",
     "output_type": "stream",
     "text": [
      "fichier ply est bien chargé\n"
     ]
    }
   ],
   "source": [
    "# chargement du fichier ply\n",
    "pc_ply = o3d.io.read_point_cloud(\"D:\\\\data\\\\data\\\\fragment.ply\")\n",
    "print('fichier ply est bien chargé')"
   ]
  },
  {
   "cell_type": "code",
   "execution_count": 8,
   "id": "71f6ae60",
   "metadata": {},
   "outputs": [
    {
     "name": "stdout",
     "output_type": "stream",
     "text": [
      "['HalfEdgeTriangleMesh', 'Image', 'LineSet', 'PointCloud', 'RGBDImage', 'TetraMesh', 'TriangleMesh', 'Type', 'Unspecified', 'VoxelGrid', '__add__', '__class__', '__copy__', '__deepcopy__', '__delattr__', '__dir__', '__doc__', '__eq__', '__format__', '__ge__', '__getattribute__', '__gt__', '__hash__', '__iadd__', '__init__', '__init_subclass__', '__le__', '__lt__', '__module__', '__ne__', '__new__', '__reduce__', '__reduce_ex__', '__repr__', '__setattr__', '__sizeof__', '__str__', '__subclasshook__', 'clear', 'cluster_dbscan', 'colors', 'compute_convex_hull', 'compute_mahalanobis_distance', 'compute_mean_and_covariance', 'compute_nearest_neighbor_distance', 'compute_point_cloud_distance', 'covariances', 'create_from_depth_image', 'create_from_rgbd_image', 'crop', 'dimension', 'estimate_covariances', 'estimate_normals', 'estimate_point_covariances', 'get_axis_aligned_bounding_box', 'get_center', 'get_geometry_type', 'get_max_bound', 'get_min_bound', 'get_oriented_bounding_box', 'get_rotation_matrix_from_axis_angle', 'get_rotation_matrix_from_quaternion', 'get_rotation_matrix_from_xyz', 'get_rotation_matrix_from_xzy', 'get_rotation_matrix_from_yxz', 'get_rotation_matrix_from_yzx', 'get_rotation_matrix_from_zxy', 'get_rotation_matrix_from_zyx', 'has_colors', 'has_covariances', 'has_normals', 'has_points', 'hidden_point_removal', 'is_empty', 'normalize_normals', 'normals', 'orient_normals_consistent_tangent_plane', 'orient_normals_to_align_with_direction', 'orient_normals_towards_camera_location', 'paint_uniform_color', 'points', 'random_down_sample', 'remove_non_finite_points', 'remove_radius_outlier', 'remove_statistical_outlier', 'rotate', 'scale', 'segment_plane', 'select_by_index', 'transform', 'translate', 'uniform_down_sample', 'voxel_down_sample', 'voxel_down_sample_and_trace']\n"
     ]
    }
   ],
   "source": [
    "# details du fichier ply\n",
    "print(dir(pc_ply))"
   ]
  },
  {
   "cell_type": "code",
   "execution_count": 5,
   "id": "3bfaf37a",
   "metadata": {},
   "outputs": [
    {
     "name": "stdout",
     "output_type": "stream",
     "text": [
      "forme des points (196133, 3)\n",
      "forme des couleurs (196133, 3)\n"
     ]
    }
   ],
   "source": [
    "print('forme des points', np.asarray(pc_ply.points).shape)\n",
    "print('forme des couleurs', np.asarray(pc_ply.colors).shape)"
   ]
  },
  {
   "cell_type": "markdown",
   "id": "d638a946",
   "metadata": {},
   "source": [
    "# la visualisation à l'aide de la methode 'draw_geometries'\n",
    "\n",
    "## vous pouvez tourner l'objet en utilisant la souris \n",
    "## pour changer la temperature des couleurs, cliquez sur 'L'\n",
    "## pour rendre l'objet à son etat initial, cliquez sur 'r'"
   ]
  },
  {
   "cell_type": "code",
   "execution_count": 7,
   "id": "7dfd82e3",
   "metadata": {},
   "outputs": [],
   "source": [
    "\n",
    "# visualisation\n",
    "o3d.visualization.draw_geometries([pc_ply])"
   ]
  },
  {
   "cell_type": "code",
   "execution_count": 30,
   "id": "c6cb6eeb",
   "metadata": {},
   "outputs": [
    {
     "name": "stdout",
     "output_type": "stream",
     "text": [
      "PointCloud with 1366408 points.\n",
      "forme des points (1366408, 3)\n",
      "forme des couleurs (0, 3)\n"
     ]
    }
   ],
   "source": [
    "# chargement du fichier pcd\n",
    "pc_pcd = o3d.io.read_point_cloud(\"D:\\\\data\\\\data\\\\pcl_CSite1_orig-utm.pcd\")\n",
    "# details du nuage de points\n",
    "print(pc_pcd)\n",
    "print('forme des points', np.asarray(pc_pcd.points).shape)\n",
    "print('forme des couleurs', np.asarray(pc_pcd.colors).shape) # ya pas de couleurs pour la data"
   ]
  },
  {
   "cell_type": "code",
   "execution_count": 29,
   "id": "7a0a8e39",
   "metadata": {},
   "outputs": [],
   "source": [
    "# visualisation\n",
    "o3d.visualization.draw_geometries([pc_pcd])"
   ]
  },
  {
   "cell_type": "code",
   "execution_count": 52,
   "id": "efec6b5b",
   "metadata": {},
   "outputs": [
    {
     "name": "stdout",
     "output_type": "stream",
     "text": [
      "Forme de nuage de points: (8192, 3)\n"
     ]
    }
   ],
   "source": [
    "pc_np = np.load('D:\\\\data\\\\data\\\\shapenet_04554684-fcc0bdba1a95be2546cde67a6a1ea328.npy')\n",
    "print('Forme de nuage de points:', pc_np.shape)\n",
    "# Creation d'une classe de nuage de points \n",
    "pc = o3d.geometry.PointCloud()\n",
    "pc.points = o3d.utility.Vector3dVector(pc_np)"
   ]
  },
  {
   "cell_type": "code",
   "execution_count": 11,
   "id": "48067993",
   "metadata": {},
   "outputs": [],
   "source": [
    "# visualisation\n",
    "o3d.visualization.draw_geometries([pc])"
   ]
  },
  {
   "cell_type": "code",
   "execution_count": 48,
   "id": "c660b170",
   "metadata": {},
   "outputs": [
    {
     "name": "stdout",
     "output_type": "stream",
     "text": [
      "<LasData(1.3, point fmt: <PointFormat(1, 0 bytes of extra dims)>, 10683 points, 0 vlrs)>\n"
     ]
    }
   ],
   "source": [
    "point_cloud = laspy.read('D:\\\\data\\\\data\\\\vegetation_1_3.las')\n",
    "print(point_cloud)"
   ]
  },
  {
   "cell_type": "code",
   "execution_count": 26,
   "id": "a7adb092",
   "metadata": {
    "scrolled": true
   },
   "outputs": [
    {
     "data": {
      "text/plain": [
       "['X',\n",
       " 'Y',\n",
       " 'Z',\n",
       " 'intensity',\n",
       " 'return_number',\n",
       " 'number_of_returns',\n",
       " 'scan_direction_flag',\n",
       " 'edge_of_flight_line',\n",
       " 'classification',\n",
       " 'synthetic',\n",
       " 'key_point',\n",
       " 'withheld',\n",
       " 'scan_angle_rank',\n",
       " 'user_data',\n",
       " 'point_source_id',\n",
       " 'gps_time']"
      ]
     },
     "execution_count": 26,
     "metadata": {},
     "output_type": "execute_result"
    }
   ],
   "source": [
    "## listes des noms des colonnes  du fichier las.\n",
    "point_format = point_cloud.point_format\n",
    "list(point_format.dimension_names)"
   ]
  },
  {
   "cell_type": "code",
   "execution_count": 16,
   "id": "d20749ca",
   "metadata": {},
   "outputs": [
    {
     "name": "stdout",
     "output_type": "stream",
     "text": [
      "(10683, 3)\n"
     ]
    }
   ],
   "source": [
    "# preparation pour la visualisation\n",
    "points = np.vstack((point_cloud.x, point_cloud.y, point_cloud.z)).transpose()\n",
    "print(points.shape)"
   ]
  },
  {
   "cell_type": "code",
   "execution_count": 17,
   "id": "437ce539",
   "metadata": {},
   "outputs": [],
   "source": [
    "vis = pptk.viewer(points) # debut de la visualisation interactive"
   ]
  },
  {
   "cell_type": "code",
   "execution_count": 18,
   "id": "fcf207f5",
   "metadata": {},
   "outputs": [
    {
     "data": {
      "text/plain": [
       "array([ 3341, 12336, 12593, ..., 15163, 10794,  8738], dtype=uint16)"
      ]
     },
     "execution_count": 18,
     "metadata": {},
     "output_type": "execute_result"
    }
   ],
   "source": [
    "point_cloud.intensity"
   ]
  },
  {
   "cell_type": "code",
   "execution_count": 54,
   "id": "d43593e4",
   "metadata": {},
   "outputs": [
    {
     "ename": "ConnectionRefusedError",
     "evalue": "[WinError 10061] Aucune connexion n’a pu être établie car l’ordinateur cible l’a expressément refusée",
     "output_type": "error",
     "traceback": [
      "\u001b[1;31m---------------------------------------------------------------------------\u001b[0m",
      "\u001b[1;31mConnectionRefusedError\u001b[0m                    Traceback (most recent call last)",
      "\u001b[1;32m<ipython-input-54-df83454678b6>\u001b[0m in \u001b[0;36m<module>\u001b[1;34m\u001b[0m\n\u001b[0;32m      1\u001b[0m \u001b[1;31m## (Optionnel)\u001b[0m\u001b[1;33m\u001b[0m\u001b[1;33m\u001b[0m\u001b[1;33m\u001b[0m\u001b[0m\n\u001b[1;32m----> 2\u001b[1;33m \u001b[0mvis\u001b[0m\u001b[1;33m.\u001b[0m\u001b[0mattributes\u001b[0m\u001b[1;33m(\u001b[0m\u001b[0mpoint_cloud\u001b[0m\u001b[1;33m.\u001b[0m\u001b[0mintensity\u001b[0m\u001b[1;33m)\u001b[0m \u001b[1;31m# chargement des attributs point (intensité) pour colorer les points\u001b[0m\u001b[1;33m\u001b[0m\u001b[1;33m\u001b[0m\u001b[0m\n\u001b[0m\u001b[0;32m      3\u001b[0m \u001b[0mvis\u001b[0m\u001b[1;33m.\u001b[0m\u001b[0mset\u001b[0m\u001b[1;33m(\u001b[0m\u001b[0mpoint_size\u001b[0m\u001b[1;33m=\u001b[0m\u001b[1;36m0.01\u001b[0m\u001b[1;33m)\u001b[0m\u001b[1;33m\u001b[0m\u001b[1;33m\u001b[0m\u001b[0m\n\u001b[0;32m      4\u001b[0m \u001b[0mvis\u001b[0m\u001b[1;33m.\u001b[0m\u001b[0mset\u001b[0m\u001b[1;33m(\u001b[0m\u001b[0mbg_color\u001b[0m\u001b[1;33m=\u001b[0m\u001b[1;33m[\u001b[0m\u001b[1;36m0\u001b[0m\u001b[1;33m,\u001b[0m \u001b[1;36m0\u001b[0m\u001b[1;33m,\u001b[0m \u001b[1;36m0\u001b[0m\u001b[1;33m,\u001b[0m \u001b[1;36m1\u001b[0m\u001b[1;33m]\u001b[0m\u001b[1;33m)\u001b[0m\u001b[1;33m\u001b[0m\u001b[1;33m\u001b[0m\u001b[0m\n\u001b[0;32m      5\u001b[0m \u001b[0mvis\u001b[0m\u001b[1;33m.\u001b[0m\u001b[0mset\u001b[0m\u001b[1;33m(\u001b[0m\u001b[0mshow_grid\u001b[0m\u001b[1;33m=\u001b[0m\u001b[1;32mFalse\u001b[0m\u001b[1;33m)\u001b[0m\u001b[1;33m\u001b[0m\u001b[1;33m\u001b[0m\u001b[0m\n",
      "\u001b[1;32mD:\\Programs\\anaconda3\\envs\\simo\\lib\\site-packages\\pptk\\viewer\\viewer.py\u001b[0m in \u001b[0;36mattributes\u001b[1;34m(self, *attr)\u001b[0m\n\u001b[0;32m    209\u001b[0m             \u001b[1;31m# array of scalars\u001b[0m\u001b[1;33m\u001b[0m\u001b[1;33m\u001b[0m\u001b[1;33m\u001b[0m\u001b[0m\n\u001b[0;32m    210\u001b[0m             \u001b[1;32mif\u001b[0m \u001b[0mlen\u001b[0m\u001b[1;33m(\u001b[0m\u001b[0mx\u001b[0m\u001b[1;33m.\u001b[0m\u001b[0mshape\u001b[0m\u001b[1;33m)\u001b[0m \u001b[1;33m==\u001b[0m \u001b[1;36m1\u001b[0m\u001b[1;33m:\u001b[0m\u001b[1;33m\u001b[0m\u001b[1;33m\u001b[0m\u001b[0m\n\u001b[1;32m--> 211\u001b[1;33m                 \u001b[1;32mif\u001b[0m \u001b[0mx\u001b[0m\u001b[1;33m.\u001b[0m\u001b[0mshape\u001b[0m\u001b[1;33m[\u001b[0m\u001b[1;36m0\u001b[0m\u001b[1;33m]\u001b[0m \u001b[1;33m!=\u001b[0m \u001b[0mself\u001b[0m\u001b[1;33m.\u001b[0m\u001b[0mget\u001b[0m\u001b[1;33m(\u001b[0m\u001b[1;34m'num_points'\u001b[0m\u001b[1;33m)\u001b[0m \u001b[1;32mand\u001b[0m \u001b[0mx\u001b[0m\u001b[1;33m.\u001b[0m\u001b[0mshape\u001b[0m\u001b[1;33m[\u001b[0m\u001b[1;36m0\u001b[0m\u001b[1;33m]\u001b[0m \u001b[1;33m!=\u001b[0m \u001b[1;36m1\u001b[0m\u001b[1;33m:\u001b[0m\u001b[1;33m\u001b[0m\u001b[1;33m\u001b[0m\u001b[0m\n\u001b[0m\u001b[0;32m    212\u001b[0m                     \u001b[1;32mraise\u001b[0m \u001b[0mValueError\u001b[0m\u001b[1;33m(\u001b[0m\u001b[0merror_msg\u001b[0m \u001b[1;33m%\u001b[0m \u001b[0mi\u001b[0m\u001b[1;33m)\u001b[0m\u001b[1;33m\u001b[0m\u001b[1;33m\u001b[0m\u001b[0m\n\u001b[0;32m    213\u001b[0m                 \u001b[0mmsg\u001b[0m \u001b[1;33m+=\u001b[0m \u001b[0mstruct\u001b[0m\u001b[1;33m.\u001b[0m\u001b[0mpack\u001b[0m\u001b[1;33m(\u001b[0m\u001b[1;34m'QQ'\u001b[0m\u001b[1;33m,\u001b[0m \u001b[0mx\u001b[0m\u001b[1;33m.\u001b[0m\u001b[0mshape\u001b[0m\u001b[1;33m[\u001b[0m\u001b[1;36m0\u001b[0m\u001b[1;33m]\u001b[0m\u001b[1;33m,\u001b[0m \u001b[1;36m1\u001b[0m\u001b[1;33m)\u001b[0m \u001b[1;33m+\u001b[0m \u001b[0mx\u001b[0m\u001b[1;33m.\u001b[0m\u001b[0mtostring\u001b[0m\u001b[1;33m(\u001b[0m\u001b[1;33m)\u001b[0m\u001b[1;33m\u001b[0m\u001b[1;33m\u001b[0m\u001b[0m\n",
      "\u001b[1;32mD:\\Programs\\anaconda3\\envs\\simo\\lib\\site-packages\\pptk\\viewer\\viewer.py\u001b[0m in \u001b[0;36mget\u001b[1;34m(self, prop_name)\u001b[0m\n\u001b[0;32m    164\u001b[0m \u001b[1;33m\u001b[0m\u001b[0m\n\u001b[0;32m    165\u001b[0m         \"\"\"\n\u001b[1;32m--> 166\u001b[1;33m         \u001b[1;32mreturn\u001b[0m \u001b[0mself\u001b[0m\u001b[1;33m.\u001b[0m\u001b[0m__query\u001b[0m\u001b[1;33m(\u001b[0m\u001b[0m_construct_get_msg\u001b[0m\u001b[1;33m(\u001b[0m\u001b[0mprop_name\u001b[0m\u001b[1;33m)\u001b[0m\u001b[1;33m)\u001b[0m\u001b[1;33m\u001b[0m\u001b[1;33m\u001b[0m\u001b[0m\n\u001b[0m\u001b[0;32m    167\u001b[0m \u001b[1;33m\u001b[0m\u001b[0m\n\u001b[0;32m    168\u001b[0m     \u001b[1;32mdef\u001b[0m \u001b[0mload\u001b[0m\u001b[1;33m(\u001b[0m\u001b[0mself\u001b[0m\u001b[1;33m,\u001b[0m \u001b[1;33m*\u001b[0m\u001b[0margs\u001b[0m\u001b[1;33m,\u001b[0m \u001b[1;33m**\u001b[0m\u001b[0mkwargs\u001b[0m\u001b[1;33m)\u001b[0m\u001b[1;33m:\u001b[0m\u001b[1;33m\u001b[0m\u001b[1;33m\u001b[0m\u001b[0m\n",
      "\u001b[1;32mD:\\Programs\\anaconda3\\envs\\simo\\lib\\site-packages\\pptk\\viewer\\viewer.py\u001b[0m in \u001b[0;36m__query\u001b[1;34m(self, msg)\u001b[0m\n\u001b[0;32m    449\u001b[0m         \u001b[0ms\u001b[0m \u001b[1;33m=\u001b[0m \u001b[0msocket\u001b[0m\u001b[1;33m.\u001b[0m\u001b[0msocket\u001b[0m\u001b[1;33m(\u001b[0m\u001b[0msocket\u001b[0m\u001b[1;33m.\u001b[0m\u001b[0mAF_INET\u001b[0m\u001b[1;33m,\u001b[0m \u001b[0msocket\u001b[0m\u001b[1;33m.\u001b[0m\u001b[0mSOCK_STREAM\u001b[0m\u001b[1;33m)\u001b[0m\u001b[1;33m\u001b[0m\u001b[1;33m\u001b[0m\u001b[0m\n\u001b[0;32m    450\u001b[0m         \u001b[1;31m# s.setsockopt(socket.SOL_SOCKET,socket.TCP_NODELAY,1)\u001b[0m\u001b[1;33m\u001b[0m\u001b[1;33m\u001b[0m\u001b[1;33m\u001b[0m\u001b[0m\n\u001b[1;32m--> 451\u001b[1;33m         \u001b[0ms\u001b[0m\u001b[1;33m.\u001b[0m\u001b[0mconnect\u001b[0m\u001b[1;33m(\u001b[0m\u001b[1;33m(\u001b[0m\u001b[1;34m'localhost'\u001b[0m\u001b[1;33m,\u001b[0m \u001b[0mself\u001b[0m\u001b[1;33m.\u001b[0m\u001b[0m_portNumber\u001b[0m\u001b[1;33m)\u001b[0m\u001b[1;33m)\u001b[0m\u001b[1;33m\u001b[0m\u001b[1;33m\u001b[0m\u001b[0m\n\u001b[0m\u001b[0;32m    452\u001b[0m         \u001b[0mtotalSent\u001b[0m \u001b[1;33m=\u001b[0m \u001b[1;36m0\u001b[0m\u001b[1;33m\u001b[0m\u001b[1;33m\u001b[0m\u001b[0m\n\u001b[0;32m    453\u001b[0m         \u001b[1;32mwhile\u001b[0m \u001b[0mtotalSent\u001b[0m \u001b[1;33m<\u001b[0m \u001b[0mlen\u001b[0m\u001b[1;33m(\u001b[0m\u001b[0mmsg\u001b[0m\u001b[1;33m)\u001b[0m\u001b[1;33m:\u001b[0m\u001b[1;33m\u001b[0m\u001b[1;33m\u001b[0m\u001b[0m\n",
      "\u001b[1;31mConnectionRefusedError\u001b[0m: [WinError 10061] Aucune connexion n’a pu être établie car l’ordinateur cible l’a expressément refusée"
     ]
    }
   ],
   "source": [
    "## (Optionnel)\n",
    "vis.attributes(point_cloud.intensity) # chargement des attributs point (intensité) pour colorer les points\n",
    "vis.set(point_size=0.01)\n",
    "vis.set(bg_color=[0, 0, 0, 1])\n",
    "vis.set(show_grid=False)\n",
    "vis.set(show_axis=False)\n",
    "vis.color_map('spring') # Options: 'jet' (pqr defaut), 'hsv', 'hot', 'cool', 'spring', 'summer', 'autumn', 'winter', 'gray'"
   ]
  },
  {
   "cell_type": "code",
   "execution_count": 27,
   "id": "03e947fd",
   "metadata": {},
   "outputs": [
    {
     "ename": "ConnectionRefusedError",
     "evalue": "[WinError 10061] Aucune connexion n’a pu être établie car l’ordinateur cible l’a expressément refusée",
     "output_type": "error",
     "traceback": [
      "\u001b[1;31m---------------------------------------------------------------------------\u001b[0m",
      "\u001b[1;31mConnectionRefusedError\u001b[0m                    Traceback (most recent call last)",
      "\u001b[1;32m<ipython-input-27-2454c69d8839>\u001b[0m in \u001b[0;36m<module>\u001b[1;34m\u001b[0m\n\u001b[0;32m      1\u001b[0m \u001b[1;31m# pour prendre une screenshot de la vu actuelle\u001b[0m\u001b[1;33m\u001b[0m\u001b[1;33m\u001b[0m\u001b[1;33m\u001b[0m\u001b[0m\n\u001b[1;32m----> 2\u001b[1;33m \u001b[0mvis\u001b[0m\u001b[1;33m.\u001b[0m\u001b[0mcapture\u001b[0m\u001b[1;33m(\u001b[0m\u001b[1;34m'screenshot_las.png'\u001b[0m\u001b[1;33m)\u001b[0m\u001b[1;33m\u001b[0m\u001b[1;33m\u001b[0m\u001b[0m\n\u001b[0m",
      "\u001b[1;32mD:\\Programs\\anaconda3\\envs\\simo\\lib\\site-packages\\pptk\\viewer\\viewer.py\u001b[0m in \u001b[0;36mcapture\u001b[1;34m(self, filename)\u001b[0m\n\u001b[0;32m    290\u001b[0m         \"\"\"\n\u001b[0;32m    291\u001b[0m         \u001b[0mmsg\u001b[0m \u001b[1;33m=\u001b[0m \u001b[0mstruct\u001b[0m\u001b[1;33m.\u001b[0m\u001b[0mpack\u001b[0m\u001b[1;33m(\u001b[0m\u001b[1;34m'b'\u001b[0m\u001b[1;33m,\u001b[0m \u001b[1;36m6\u001b[0m\u001b[1;33m)\u001b[0m \u001b[1;33m+\u001b[0m \u001b[0m_pack_string\u001b[0m\u001b[1;33m(\u001b[0m\u001b[0mos\u001b[0m\u001b[1;33m.\u001b[0m\u001b[0mpath\u001b[0m\u001b[1;33m.\u001b[0m\u001b[0mabspath\u001b[0m\u001b[1;33m(\u001b[0m\u001b[0mfilename\u001b[0m\u001b[1;33m)\u001b[0m\u001b[1;33m)\u001b[0m\u001b[1;33m\u001b[0m\u001b[1;33m\u001b[0m\u001b[0m\n\u001b[1;32m--> 292\u001b[1;33m         \u001b[0mself\u001b[0m\u001b[1;33m.\u001b[0m\u001b[0m__send\u001b[0m\u001b[1;33m(\u001b[0m\u001b[0mmsg\u001b[0m\u001b[1;33m)\u001b[0m\u001b[1;33m\u001b[0m\u001b[1;33m\u001b[0m\u001b[0m\n\u001b[0m\u001b[0;32m    293\u001b[0m \u001b[1;33m\u001b[0m\u001b[0m\n\u001b[0;32m    294\u001b[0m     def play(self, poses, ts=[], tlim=[-numpy.inf, numpy.inf], repeat=False,\n",
      "\u001b[1;32mD:\\Programs\\anaconda3\\envs\\simo\\lib\\site-packages\\pptk\\viewer\\viewer.py\u001b[0m in \u001b[0;36m__send\u001b[1;34m(self, msg)\u001b[0m\n\u001b[0;32m    437\u001b[0m     \u001b[1;32mdef\u001b[0m \u001b[0m__send\u001b[0m\u001b[1;33m(\u001b[0m\u001b[0mself\u001b[0m\u001b[1;33m,\u001b[0m \u001b[0mmsg\u001b[0m\u001b[1;33m)\u001b[0m\u001b[1;33m:\u001b[0m\u001b[1;33m\u001b[0m\u001b[1;33m\u001b[0m\u001b[0m\n\u001b[0;32m    438\u001b[0m         \u001b[0ms\u001b[0m \u001b[1;33m=\u001b[0m \u001b[0msocket\u001b[0m\u001b[1;33m.\u001b[0m\u001b[0msocket\u001b[0m\u001b[1;33m(\u001b[0m\u001b[0msocket\u001b[0m\u001b[1;33m.\u001b[0m\u001b[0mAF_INET\u001b[0m\u001b[1;33m,\u001b[0m \u001b[0msocket\u001b[0m\u001b[1;33m.\u001b[0m\u001b[0mSOCK_STREAM\u001b[0m\u001b[1;33m)\u001b[0m\u001b[1;33m\u001b[0m\u001b[1;33m\u001b[0m\u001b[0m\n\u001b[1;32m--> 439\u001b[1;33m         \u001b[0ms\u001b[0m\u001b[1;33m.\u001b[0m\u001b[0mconnect\u001b[0m\u001b[1;33m(\u001b[0m\u001b[1;33m(\u001b[0m\u001b[1;34m'localhost'\u001b[0m\u001b[1;33m,\u001b[0m \u001b[0mself\u001b[0m\u001b[1;33m.\u001b[0m\u001b[0m_portNumber\u001b[0m\u001b[1;33m)\u001b[0m\u001b[1;33m)\u001b[0m\u001b[1;33m\u001b[0m\u001b[1;33m\u001b[0m\u001b[0m\n\u001b[0m\u001b[0;32m    440\u001b[0m         \u001b[0mtotalSent\u001b[0m \u001b[1;33m=\u001b[0m \u001b[1;36m0\u001b[0m\u001b[1;33m\u001b[0m\u001b[1;33m\u001b[0m\u001b[0m\n\u001b[0;32m    441\u001b[0m         \u001b[1;32mwhile\u001b[0m \u001b[0mtotalSent\u001b[0m \u001b[1;33m<\u001b[0m \u001b[0mlen\u001b[0m\u001b[1;33m(\u001b[0m\u001b[0mmsg\u001b[0m\u001b[1;33m)\u001b[0m\u001b[1;33m:\u001b[0m\u001b[1;33m\u001b[0m\u001b[1;33m\u001b[0m\u001b[0m\n",
      "\u001b[1;31mConnectionRefusedError\u001b[0m: [WinError 10061] Aucune connexion n’a pu être établie car l’ordinateur cible l’a expressément refusée"
     ]
    }
   ],
   "source": [
    "# pour prendre une screenshot de la vu actuelle\n",
    "vis.capture('screenshot_las.png')"
   ]
  },
  {
   "cell_type": "code",
   "execution_count": 31,
   "id": "66aa1f15",
   "metadata": {},
   "outputs": [
    {
     "ename": "LaspyException",
     "evalue": "No LazBackend selected, cannot decompress data",
     "output_type": "error",
     "traceback": [
      "\u001b[1;31m---------------------------------------------------------------------------\u001b[0m",
      "\u001b[1;31mLaspyException\u001b[0m                            Traceback (most recent call last)",
      "\u001b[1;32m<ipython-input-31-dd0d207dccf8>\u001b[0m in \u001b[0;36m<module>\u001b[1;34m\u001b[0m\n\u001b[0;32m      1\u001b[0m \u001b[1;31m## chargement du fichier LAZ\u001b[0m\u001b[1;33m\u001b[0m\u001b[1;33m\u001b[0m\u001b[1;33m\u001b[0m\u001b[0m\n\u001b[1;32m----> 2\u001b[1;33m \u001b[0mpc_laz\u001b[0m \u001b[1;33m=\u001b[0m \u001b[0mlaspy\u001b[0m\u001b[1;33m.\u001b[0m\u001b[0mread\u001b[0m\u001b[1;33m(\u001b[0m\u001b[1;34m'D:\\\\data\\\\data\\\\plane.laz'\u001b[0m\u001b[1;33m)\u001b[0m\u001b[1;33m\u001b[0m\u001b[1;33m\u001b[0m\u001b[0m\n\u001b[0m\u001b[0;32m      3\u001b[0m \u001b[1;33m\u001b[0m\u001b[0m\n\u001b[0;32m      4\u001b[0m \u001b[1;31m# preparation pour la visualisation\u001b[0m\u001b[1;33m\u001b[0m\u001b[1;33m\u001b[0m\u001b[1;33m\u001b[0m\u001b[0m\n\u001b[0;32m      5\u001b[0m \u001b[0mpoints\u001b[0m \u001b[1;33m=\u001b[0m \u001b[0mnp\u001b[0m\u001b[1;33m.\u001b[0m\u001b[0mvstack\u001b[0m\u001b[1;33m(\u001b[0m\u001b[1;33m(\u001b[0m\u001b[0mpc_laz\u001b[0m\u001b[1;33m.\u001b[0m\u001b[0mx\u001b[0m\u001b[1;33m,\u001b[0m \u001b[0mpc_laz\u001b[0m\u001b[1;33m.\u001b[0m\u001b[0my\u001b[0m\u001b[1;33m,\u001b[0m \u001b[0mpc_laz\u001b[0m\u001b[1;33m.\u001b[0m\u001b[0mz\u001b[0m\u001b[1;33m)\u001b[0m\u001b[1;33m)\u001b[0m\u001b[1;33m.\u001b[0m\u001b[0mtranspose\u001b[0m\u001b[1;33m(\u001b[0m\u001b[1;33m)\u001b[0m\u001b[1;33m\u001b[0m\u001b[1;33m\u001b[0m\u001b[0m\n",
      "\u001b[1;32mD:\\Programs\\anaconda3\\envs\\simo\\lib\\site-packages\\laspy\\lib.py\u001b[0m in \u001b[0;36mread_las\u001b[1;34m(source, closefd, laz_backend)\u001b[0m\n\u001b[0;32m    184\u001b[0m         \u001b[0mThe\u001b[0m \u001b[0mobject\u001b[0m \u001b[0myou\u001b[0m \u001b[0mcan\u001b[0m \u001b[0minteract\u001b[0m \u001b[1;32mwith\u001b[0m \u001b[0mto\u001b[0m \u001b[0mget\u001b[0m \u001b[0maccess\u001b[0m \u001b[0mto\u001b[0m \u001b[0mthe\u001b[0m \u001b[0mLAS\u001b[0m \u001b[0mpoints\u001b[0m \u001b[1;33m&\u001b[0m \u001b[0mVLRs\u001b[0m\u001b[1;33m\u001b[0m\u001b[1;33m\u001b[0m\u001b[0m\n\u001b[0;32m    185\u001b[0m     \"\"\"\n\u001b[1;32m--> 186\u001b[1;33m     \u001b[1;32mwith\u001b[0m \u001b[0mopen_las\u001b[0m\u001b[1;33m(\u001b[0m\u001b[0msource\u001b[0m\u001b[1;33m,\u001b[0m \u001b[0mclosefd\u001b[0m\u001b[1;33m=\u001b[0m\u001b[0mclosefd\u001b[0m\u001b[1;33m,\u001b[0m \u001b[0mlaz_backend\u001b[0m\u001b[1;33m=\u001b[0m\u001b[0mlaz_backend\u001b[0m\u001b[1;33m)\u001b[0m \u001b[1;32mas\u001b[0m \u001b[0mreader\u001b[0m\u001b[1;33m:\u001b[0m\u001b[1;33m\u001b[0m\u001b[1;33m\u001b[0m\u001b[0m\n\u001b[0m\u001b[0;32m    187\u001b[0m         \u001b[1;32mreturn\u001b[0m \u001b[0mreader\u001b[0m\u001b[1;33m.\u001b[0m\u001b[0mread\u001b[0m\u001b[1;33m(\u001b[0m\u001b[1;33m)\u001b[0m\u001b[1;33m\u001b[0m\u001b[1;33m\u001b[0m\u001b[0m\n\u001b[0;32m    188\u001b[0m \u001b[1;33m\u001b[0m\u001b[0m\n",
      "\u001b[1;32mD:\\Programs\\anaconda3\\envs\\simo\\lib\\site-packages\\laspy\\lib.py\u001b[0m in \u001b[0;36mopen_las\u001b[1;34m(source, mode, closefd, laz_backend, header, do_compress, encoding_errors)\u001b[0m\n\u001b[0;32m    115\u001b[0m         \u001b[1;32melse\u001b[0m\u001b[1;33m:\u001b[0m\u001b[1;33m\u001b[0m\u001b[1;33m\u001b[0m\u001b[0m\n\u001b[0;32m    116\u001b[0m             \u001b[0mstream\u001b[0m \u001b[1;33m=\u001b[0m \u001b[0msource\u001b[0m\u001b[1;33m\u001b[0m\u001b[1;33m\u001b[0m\u001b[0m\n\u001b[1;32m--> 117\u001b[1;33m         \u001b[1;32mreturn\u001b[0m \u001b[0mLasReader\u001b[0m\u001b[1;33m(\u001b[0m\u001b[0mstream\u001b[0m\u001b[1;33m,\u001b[0m \u001b[0mclosefd\u001b[0m\u001b[1;33m=\u001b[0m\u001b[0mclosefd\u001b[0m\u001b[1;33m,\u001b[0m \u001b[0mlaz_backend\u001b[0m\u001b[1;33m=\u001b[0m\u001b[0mlaz_backend\u001b[0m\u001b[1;33m)\u001b[0m\u001b[1;33m\u001b[0m\u001b[1;33m\u001b[0m\u001b[0m\n\u001b[0m\u001b[0;32m    118\u001b[0m     \u001b[1;32melif\u001b[0m \u001b[0mmode\u001b[0m \u001b[1;33m==\u001b[0m \u001b[1;34m\"w\"\u001b[0m\u001b[1;33m:\u001b[0m\u001b[1;33m\u001b[0m\u001b[1;33m\u001b[0m\u001b[0m\n\u001b[0;32m    119\u001b[0m         \u001b[1;32mif\u001b[0m \u001b[0mheader\u001b[0m \u001b[1;32mis\u001b[0m \u001b[1;32mNone\u001b[0m\u001b[1;33m:\u001b[0m\u001b[1;33m\u001b[0m\u001b[1;33m\u001b[0m\u001b[0m\n",
      "\u001b[1;32mD:\\Programs\\anaconda3\\envs\\simo\\lib\\site-packages\\laspy\\lasreader.py\u001b[0m in \u001b[0;36m__init__\u001b[1;34m(self, source, closefd, laz_backend)\u001b[0m\n\u001b[0;32m     51\u001b[0m         \u001b[1;32mif\u001b[0m \u001b[0mself\u001b[0m\u001b[1;33m.\u001b[0m\u001b[0mheader\u001b[0m\u001b[1;33m.\u001b[0m\u001b[0mpoint_count\u001b[0m \u001b[1;33m>\u001b[0m \u001b[1;36m0\u001b[0m\u001b[1;33m:\u001b[0m\u001b[1;33m\u001b[0m\u001b[1;33m\u001b[0m\u001b[0m\n\u001b[0;32m     52\u001b[0m             \u001b[1;32mif\u001b[0m \u001b[0mself\u001b[0m\u001b[1;33m.\u001b[0m\u001b[0mheader\u001b[0m\u001b[1;33m.\u001b[0m\u001b[0mare_points_compressed\u001b[0m\u001b[1;33m:\u001b[0m\u001b[1;33m\u001b[0m\u001b[1;33m\u001b[0m\u001b[0m\n\u001b[1;32m---> 53\u001b[1;33m                 \u001b[0mself\u001b[0m\u001b[1;33m.\u001b[0m\u001b[0mpoint_source\u001b[0m \u001b[1;33m=\u001b[0m \u001b[0mself\u001b[0m\u001b[1;33m.\u001b[0m\u001b[0m_create_laz_backend\u001b[0m\u001b[1;33m(\u001b[0m\u001b[0msource\u001b[0m\u001b[1;33m)\u001b[0m\u001b[1;33m\u001b[0m\u001b[1;33m\u001b[0m\u001b[0m\n\u001b[0m\u001b[0;32m     54\u001b[0m                 \u001b[1;32mif\u001b[0m \u001b[0mself\u001b[0m\u001b[1;33m.\u001b[0m\u001b[0mpoint_source\u001b[0m \u001b[1;32mis\u001b[0m \u001b[1;32mNone\u001b[0m\u001b[1;33m:\u001b[0m\u001b[1;33m\u001b[0m\u001b[1;33m\u001b[0m\u001b[0m\n\u001b[0;32m     55\u001b[0m                     raise errors.LaspyException(\n",
      "\u001b[1;32mD:\\Programs\\anaconda3\\envs\\simo\\lib\\site-packages\\laspy\\lasreader.py\u001b[0m in \u001b[0;36m_create_laz_backend\u001b[1;34m(self, source)\u001b[0m\n\u001b[0;32m    186\u001b[0m         \u001b[1;32mif\u001b[0m \u001b[1;32mnot\u001b[0m \u001b[0mself\u001b[0m\u001b[1;33m.\u001b[0m\u001b[0mlaz_backend\u001b[0m\u001b[1;33m:\u001b[0m\u001b[1;33m\u001b[0m\u001b[1;33m\u001b[0m\u001b[0m\n\u001b[0;32m    187\u001b[0m             raise errors.LaspyException(\n\u001b[1;32m--> 188\u001b[1;33m                 \u001b[1;34m\"No LazBackend selected, cannot decompress data\"\u001b[0m\u001b[1;33m\u001b[0m\u001b[1;33m\u001b[0m\u001b[0m\n\u001b[0m\u001b[0;32m    189\u001b[0m             )\n\u001b[0;32m    190\u001b[0m \u001b[1;33m\u001b[0m\u001b[0m\n",
      "\u001b[1;31mLaspyException\u001b[0m: No LazBackend selected, cannot decompress data"
     ]
    }
   ],
   "source": [
    "## chargement du fichier LAZ\n",
    "pc_laz = laspy.read('D:\\\\data\\\\data\\\\plane.laz')\n",
    "\n",
    "# preparation pour la visualisation\n",
    "points = np.vstack((pc_laz.x, pc_laz.y, pc_laz.z)).transpose()\n",
    "print('forme des nuages de points:', points.shape)"
   ]
  },
  {
   "cell_type": "code",
   "execution_count": 55,
   "id": "b0c4e58d",
   "metadata": {},
   "outputs": [],
   "source": [
    "vis = pptk.viewer(points) # la visualisation interactive "
   ]
  },
  {
   "cell_type": "code",
   "execution_count": 34,
   "id": "c0045c6d",
   "metadata": {},
   "outputs": [],
   "source": [
    "pc_h5 = h5py.File('D:\\\\data\\\\data\\\\Scanobjectnn_sample.h5', 'r')\n",
    "point_clouds = np.array(pc_h5['data'])\n",
    "labels = np.array(pc_h5['label'])"
   ]
  },
  {
   "cell_type": "code",
   "execution_count": 37,
   "id": "bfc5debb",
   "metadata": {},
   "outputs": [
    {
     "name": "stdout",
     "output_type": "stream",
     "text": [
      "volume des nuages de points (Point Clouds) : (2, 2048, 3)\n",
      "les labels: [ 4 12]\n"
     ]
    }
   ],
   "source": [
    "print('volume des nuages de points (Point Clouds) :', point_clouds.shape)\n",
    "print('les labels:', labels)"
   ]
  },
  {
   "cell_type": "code",
   "execution_count": 38,
   "id": "54165eba",
   "metadata": {},
   "outputs": [
    {
     "data": {
      "text/plain": [
       "<pptk.viewer.viewer.viewer at 0x2c25c350978>"
      ]
     },
     "execution_count": 38,
     "metadata": {},
     "output_type": "execute_result"
    }
   ],
   "source": [
    "pptk.viewer(point_clouds[0,:,:])"
   ]
  },
  {
   "cell_type": "code",
   "execution_count": 39,
   "id": "790263f4",
   "metadata": {},
   "outputs": [
    {
     "name": "stdout",
     "output_type": "stream",
     "text": [
      "(19669, 4)\n"
     ]
    },
    {
     "data": {
      "text/plain": [
       "<pptk.viewer.viewer.viewer at 0x2c25c3a4f28>"
      ]
     },
     "execution_count": 39,
     "metadata": {},
     "output_type": "execute_result"
    }
   ],
   "source": [
    "pc_bin = np.fromfile('D:\\\\data\\\\data\\\\kitti_007517.bin', '<f4')\n",
    "pc_bin = np.reshape(pc_bin, (-1, 4))\n",
    "print(pc_bin.shape)\n",
    "pptk.viewer(pc_bin[:, :3])"
   ]
  },
  {
   "cell_type": "code",
   "execution_count": 43,
   "id": "c45d2d9e",
   "metadata": {},
   "outputs": [],
   "source": [
    "pc_txt = np.loadtxt('D:\\\\data\\\\data\\\\modelnet40_airplane_0001.txt', delimiter=',')"
   ]
  },
  {
   "cell_type": "code",
   "execution_count": 56,
   "id": "a9dde7c1",
   "metadata": {},
   "outputs": [
    {
     "name": "stdout",
     "output_type": "stream",
     "text": [
      "forme du nuage de points : (10000, 6)\n"
     ]
    }
   ],
   "source": [
    "print('forme du nuage de points :', pc_txt.shape)\n",
    "points = pc_txt[:,:3]\n",
    "colors = pc_txt[:,3:]\n",
    "vis = pptk.viewer(points, colors) # la visualisation interactive"
   ]
  },
  {
   "cell_type": "code",
   "execution_count": 45,
   "id": "e76137c1",
   "metadata": {},
   "outputs": [],
   "source": [
    "pcd = o3d.geometry.PointCloud()\n",
    "pcd.points = o3d.utility.Vector3dVector(points)\n",
    "pcd.colors = o3d.utility.Vector3dVector(colors)"
   ]
  },
  {
   "cell_type": "code",
   "execution_count": 46,
   "id": "7650a998",
   "metadata": {},
   "outputs": [],
   "source": [
    "# visualisation\n",
    "o3d.visualization.draw_geometries([pcd])"
   ]
  },
  {
   "cell_type": "code",
   "execution_count": null,
   "id": "687adb2a",
   "metadata": {},
   "outputs": [],
   "source": []
  }
 ],
 "metadata": {
  "kernelspec": {
   "display_name": "Python 3",
   "language": "python",
   "name": "python3"
  },
  "language_info": {
   "codemirror_mode": {
    "name": "ipython",
    "version": 3
   },
   "file_extension": ".py",
   "mimetype": "text/x-python",
   "name": "python",
   "nbconvert_exporter": "python",
   "pygments_lexer": "ipython3",
   "version": "3.6.13"
  }
 },
 "nbformat": 4,
 "nbformat_minor": 5
}
